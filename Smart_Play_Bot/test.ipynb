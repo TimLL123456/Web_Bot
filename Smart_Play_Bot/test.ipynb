{
 "cells": [
  {
   "cell_type": "code",
   "execution_count": 13,
   "metadata": {},
   "outputs": [],
   "source": [
    "import re"
   ]
  },
  {
   "cell_type": "code",
   "execution_count": 28,
   "metadata": {},
   "outputs": [],
   "source": [
    "def _classify_time(timeslot_str):\n",
    "\n",
    "    hour = int(re.search(\"\\d\", timeslot_str).group())\n",
    "\n",
    "    if \"上午\" in timeslot_str:\n",
    "        return f\"上午{hour}時\"\n",
    "    \n",
    "    elif \"下午\" in timeslot_str:\n",
    "        if (1 <= hour < 6) or (hour == 12):\n",
    "\n",
    "\n",
    "    if \"上午\" in timeslot_str:\n",
    "        return \"Morning\"\n",
    "    elif (\"下午\" in timeslot_str) and (1 <= hour < 6) and (hour == 12):\n",
    "        return \"Afternoon\"\n",
    "    elif (\"下午\" in timeslot_str) and (6 <= hour < 12):\n",
    "        return \"Night\""
   ]
  },
  {
   "cell_type": "code",
   "execution_count": 29,
   "metadata": {},
   "outputs": [
    {
     "name": "stdout",
     "output_type": "stream",
     "text": [
      "4\n"
     ]
    }
   ],
   "source": [
    "timeslot_str = \"下午4時\"\n",
    "_classify_time(timeslot_str)"
   ]
  },
  {
   "cell_type": "code",
   "execution_count": null,
   "metadata": {},
   "outputs": [],
   "source": []
  }
 ],
 "metadata": {
  "kernelspec": {
   "display_name": "llm_streamlit",
   "language": "python",
   "name": "python3"
  },
  "language_info": {
   "codemirror_mode": {
    "name": "ipython",
    "version": 3
   },
   "file_extension": ".py",
   "mimetype": "text/x-python",
   "name": "python",
   "nbconvert_exporter": "python",
   "pygments_lexer": "ipython3",
   "version": "3.10.14"
  }
 },
 "nbformat": 4,
 "nbformat_minor": 2
}
