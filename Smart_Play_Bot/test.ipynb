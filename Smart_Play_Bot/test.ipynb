{
 "cells": [
  {
   "cell_type": "code",
   "execution_count": 1,
   "metadata": {},
   "outputs": [],
   "source": [
    "import yaml"
   ]
  },
  {
   "cell_type": "code",
   "execution_count": 6,
   "metadata": {},
   "outputs": [
    {
     "data": {
      "text/plain": [
       "('mr_testing',\n",
       " 'abcdefghijklmnopqrstuvwxyz',\n",
       " '11',\n",
       " '5',\n",
       " '上午7時',\n",
       " '竹園體育館',\n",
       " 'Minnie Gerlach',\n",
       " '5419281455243022',\n",
       " '07',\n",
       " '23',\n",
       " '000')"
      ]
     },
     "execution_count": 6,
     "metadata": {},
     "output_type": "execute_result"
    }
   ],
   "source": [
    "def extract_config(path):\n",
    "\n",
    "    with open(path, \"r\") as file:\n",
    "        config = yaml.safe_load(file)\n",
    "\n",
    "    return config\n",
    "\n",
    "config = extract_config(\"config.yml\")\n",
    "\n",
    "username = config[\"username\"]\n",
    "password = config[\"password\"]\n",
    "booking_month = config[\"booking_month\"]\n",
    "booking_day = config[\"booking_day\"]\n",
    "timeslot = config[\"timeslot\"]\n",
    "venue = config[\"venue\"]\n",
    "cardholder = config[\"cardholder\"]\n",
    "card_num = config[\"card_num\"]\n",
    "expiry_month = config[\"expiry_month\"]\n",
    "expiry_year = config[\"expiry_year\"]\n",
    "security_code = config[\"security_code\"]\n",
    "\n",
    "username, password, booking_month, booking_day, timeslot, venue, cardholder, card_num, expiry_month, expiry_year, security_code"
   ]
  },
  {
   "cell_type": "code",
   "execution_count": 2,
   "metadata": {},
   "outputs": [],
   "source": [
    "from selenium import webdriver\n",
    "from selenium.webdriver.common.by import By"
   ]
  },
  {
   "cell_type": "markdown",
   "metadata": {},
   "source": [
    "`<a href=\"https://scrapeops.io/monitoring-scheduling/?utm_campaign=selenium-web-scraping-playbook&amp;utm_source=article&amp;utm_medium=organic&amp;utm_content=python-selenium-waiting-page-element-load\" style=\"color: rgb(0, 0, 0); text-decoration: none; font-weight: 600;\">Scraper Monitoring</a>`"
   ]
  },
  {
   "cell_type": "code",
   "execution_count": null,
   "metadata": {},
   "outputs": [
    {
     "ename": "NoSuchElementException",
     "evalue": "Message: no such element: Unable to locate element: {\"method\":\"xpath\",\"selector\":\"//div[@class='col col--810']\"}\n  (Session info: chrome=132.0.6834.83); For documentation on this error, please visit: https://www.selenium.dev/documentation/webdriver/troubleshooting/errors#no-such-element-exception\nStacktrace:\n\tGetHandleVerifier [0x00007FF6E978FBE5+28741]\n\t(No symbol) [0x00007FF6E96F7890]\n\t(No symbol) [0x00007FF6E9594FDA]\n\t(No symbol) [0x00007FF6E95E9322]\n\t(No symbol) [0x00007FF6E95E954C]\n\t(No symbol) [0x00007FF6E9633337]\n\t(No symbol) [0x00007FF6E960FF4F]\n\t(No symbol) [0x00007FF6E96300B4]\n\t(No symbol) [0x00007FF6E960FCB3]\n\t(No symbol) [0x00007FF6E95D9FB3]\n\t(No symbol) [0x00007FF6E95DB331]\n\tGetHandleVerifier [0x00007FF6E9ACA73D+3414941]\n\tGetHandleVerifier [0x00007FF6E9ADE64A+3496618]\n\tGetHandleVerifier [0x00007FF6E9AD413D+3454365]\n\tGetHandleVerifier [0x00007FF6E985848B+850155]\n\t(No symbol) [0x00007FF6E97037FF]\n\t(No symbol) [0x00007FF6E96FF0C4]\n\t(No symbol) [0x00007FF6E96FF25D]\n\t(No symbol) [0x00007FF6E96EE079]\n\tBaseThreadInitThunk [0x00007FF998BF7374+20]\n\tRtlUserThreadStart [0x00007FF99A45CC91+33]\n",
     "output_type": "error",
     "traceback": [
      "\u001b[1;31m---------------------------------------------------------------------------\u001b[0m",
      "\u001b[1;31mNoSuchElementException\u001b[0m                    Traceback (most recent call last)",
      "Cell \u001b[1;32mIn[11], line 6\u001b[0m\n\u001b[0;32m      2\u001b[0m driver\u001b[38;5;241m.\u001b[39mget(\u001b[38;5;124m\"\u001b[39m\u001b[38;5;124mhttps://scrapeops.io/selenium-web-scraping-playbook/python-selenium-waiting-page-element-load/\u001b[39m\u001b[38;5;124m\"\u001b[39m)\n\u001b[0;32m      4\u001b[0m text_path \u001b[38;5;241m=\u001b[39m \u001b[38;5;124m\"\u001b[39m\u001b[38;5;124m//div[@class=\u001b[39m\u001b[38;5;124m'\u001b[39m\u001b[38;5;124mcol col--810\u001b[39m\u001b[38;5;124m'\u001b[39m\u001b[38;5;124m]\u001b[39m\u001b[38;5;124m\"\u001b[39m\n\u001b[1;32m----> 6\u001b[0m elements \u001b[38;5;241m=\u001b[39m \u001b[43mdriver\u001b[49m\u001b[38;5;241;43m.\u001b[39;49m\u001b[43mfind_element\u001b[49m\u001b[43m(\u001b[49m\u001b[43mBy\u001b[49m\u001b[38;5;241;43m.\u001b[39;49m\u001b[43mXPATH\u001b[49m\u001b[43m,\u001b[49m\u001b[43m \u001b[49m\u001b[43mtext_path\u001b[49m\u001b[43m)\u001b[49m\n\u001b[0;32m      7\u001b[0m elements\u001b[38;5;241m.\u001b[39mtext\n",
      "File \u001b[1;32mc:\\Users\\timom\\miniconda3\\envs\\web_bot\\lib\\site-packages\\selenium\\webdriver\\remote\\webdriver.py:748\u001b[0m, in \u001b[0;36mWebDriver.find_element\u001b[1;34m(self, by, value)\u001b[0m\n\u001b[0;32m    745\u001b[0m     by \u001b[38;5;241m=\u001b[39m By\u001b[38;5;241m.\u001b[39mCSS_SELECTOR\n\u001b[0;32m    746\u001b[0m     value \u001b[38;5;241m=\u001b[39m \u001b[38;5;124mf\u001b[39m\u001b[38;5;124m'\u001b[39m\u001b[38;5;124m[name=\u001b[39m\u001b[38;5;124m\"\u001b[39m\u001b[38;5;132;01m{\u001b[39;00mvalue\u001b[38;5;132;01m}\u001b[39;00m\u001b[38;5;124m\"\u001b[39m\u001b[38;5;124m]\u001b[39m\u001b[38;5;124m'\u001b[39m\n\u001b[1;32m--> 748\u001b[0m \u001b[38;5;28;01mreturn\u001b[39;00m \u001b[38;5;28;43mself\u001b[39;49m\u001b[38;5;241;43m.\u001b[39;49m\u001b[43mexecute\u001b[49m\u001b[43m(\u001b[49m\u001b[43mCommand\u001b[49m\u001b[38;5;241;43m.\u001b[39;49m\u001b[43mFIND_ELEMENT\u001b[49m\u001b[43m,\u001b[49m\u001b[43m \u001b[49m\u001b[43m{\u001b[49m\u001b[38;5;124;43m\"\u001b[39;49m\u001b[38;5;124;43musing\u001b[39;49m\u001b[38;5;124;43m\"\u001b[39;49m\u001b[43m:\u001b[49m\u001b[43m \u001b[49m\u001b[43mby\u001b[49m\u001b[43m,\u001b[49m\u001b[43m \u001b[49m\u001b[38;5;124;43m\"\u001b[39;49m\u001b[38;5;124;43mvalue\u001b[39;49m\u001b[38;5;124;43m\"\u001b[39;49m\u001b[43m:\u001b[49m\u001b[43m \u001b[49m\u001b[43mvalue\u001b[49m\u001b[43m}\u001b[49m\u001b[43m)\u001b[49m[\u001b[38;5;124m\"\u001b[39m\u001b[38;5;124mvalue\u001b[39m\u001b[38;5;124m\"\u001b[39m]\n",
      "File \u001b[1;32mc:\\Users\\timom\\miniconda3\\envs\\web_bot\\lib\\site-packages\\selenium\\webdriver\\remote\\webdriver.py:354\u001b[0m, in \u001b[0;36mWebDriver.execute\u001b[1;34m(self, driver_command, params)\u001b[0m\n\u001b[0;32m    352\u001b[0m response \u001b[38;5;241m=\u001b[39m \u001b[38;5;28mself\u001b[39m\u001b[38;5;241m.\u001b[39mcommand_executor\u001b[38;5;241m.\u001b[39mexecute(driver_command, params)\n\u001b[0;32m    353\u001b[0m \u001b[38;5;28;01mif\u001b[39;00m response:\n\u001b[1;32m--> 354\u001b[0m     \u001b[38;5;28;43mself\u001b[39;49m\u001b[38;5;241;43m.\u001b[39;49m\u001b[43merror_handler\u001b[49m\u001b[38;5;241;43m.\u001b[39;49m\u001b[43mcheck_response\u001b[49m\u001b[43m(\u001b[49m\u001b[43mresponse\u001b[49m\u001b[43m)\u001b[49m\n\u001b[0;32m    355\u001b[0m     response[\u001b[38;5;124m\"\u001b[39m\u001b[38;5;124mvalue\u001b[39m\u001b[38;5;124m\"\u001b[39m] \u001b[38;5;241m=\u001b[39m \u001b[38;5;28mself\u001b[39m\u001b[38;5;241m.\u001b[39m_unwrap_value(response\u001b[38;5;241m.\u001b[39mget(\u001b[38;5;124m\"\u001b[39m\u001b[38;5;124mvalue\u001b[39m\u001b[38;5;124m\"\u001b[39m, \u001b[38;5;28;01mNone\u001b[39;00m))\n\u001b[0;32m    356\u001b[0m     \u001b[38;5;28;01mreturn\u001b[39;00m response\n",
      "File \u001b[1;32mc:\\Users\\timom\\miniconda3\\envs\\web_bot\\lib\\site-packages\\selenium\\webdriver\\remote\\errorhandler.py:229\u001b[0m, in \u001b[0;36mErrorHandler.check_response\u001b[1;34m(self, response)\u001b[0m\n\u001b[0;32m    227\u001b[0m         alert_text \u001b[38;5;241m=\u001b[39m value[\u001b[38;5;124m\"\u001b[39m\u001b[38;5;124malert\u001b[39m\u001b[38;5;124m\"\u001b[39m]\u001b[38;5;241m.\u001b[39mget(\u001b[38;5;124m\"\u001b[39m\u001b[38;5;124mtext\u001b[39m\u001b[38;5;124m\"\u001b[39m)\n\u001b[0;32m    228\u001b[0m     \u001b[38;5;28;01mraise\u001b[39;00m exception_class(message, screen, stacktrace, alert_text)  \u001b[38;5;66;03m# type: ignore[call-arg]  # mypy is not smart enough here\u001b[39;00m\n\u001b[1;32m--> 229\u001b[0m \u001b[38;5;28;01mraise\u001b[39;00m exception_class(message, screen, stacktrace)\n",
      "\u001b[1;31mNoSuchElementException\u001b[0m: Message: no such element: Unable to locate element: {\"method\":\"xpath\",\"selector\":\"//div[@class='col col--810']\"}\n  (Session info: chrome=132.0.6834.83); For documentation on this error, please visit: https://www.selenium.dev/documentation/webdriver/troubleshooting/errors#no-such-element-exception\nStacktrace:\n\tGetHandleVerifier [0x00007FF6E978FBE5+28741]\n\t(No symbol) [0x00007FF6E96F7890]\n\t(No symbol) [0x00007FF6E9594FDA]\n\t(No symbol) [0x00007FF6E95E9322]\n\t(No symbol) [0x00007FF6E95E954C]\n\t(No symbol) [0x00007FF6E9633337]\n\t(No symbol) [0x00007FF6E960FF4F]\n\t(No symbol) [0x00007FF6E96300B4]\n\t(No symbol) [0x00007FF6E960FCB3]\n\t(No symbol) [0x00007FF6E95D9FB3]\n\t(No symbol) [0x00007FF6E95DB331]\n\tGetHandleVerifier [0x00007FF6E9ACA73D+3414941]\n\tGetHandleVerifier [0x00007FF6E9ADE64A+3496618]\n\tGetHandleVerifier [0x00007FF6E9AD413D+3454365]\n\tGetHandleVerifier [0x00007FF6E985848B+850155]\n\t(No symbol) [0x00007FF6E97037FF]\n\t(No symbol) [0x00007FF6E96FF0C4]\n\t(No symbol) [0x00007FF6E96FF25D]\n\t(No symbol) [0x00007FF6E96EE079]\n\tBaseThreadInitThunk [0x00007FF998BF7374+20]\n\tRtlUserThreadStart [0x00007FF99A45CC91+33]\n"
     ]
    }
   ],
   "source": [
    "driver = webdriver.Chrome()\n",
    "driver.get(\"https://scrapeops.io/selenium-web-scraping-playbook/python-selenium-waiting-page-element-load/\")\n",
    "\n",
    "text_path = \"//div[@class='col col--810']\"\n",
    "\n",
    "elements = driver.find_element(By.XPATH, text_path)\n",
    "elements"
   ]
  },
  {
   "cell_type": "code",
   "execution_count": null,
   "metadata": {},
   "outputs": [],
   "source": []
  }
 ],
 "metadata": {
  "kernelspec": {
   "display_name": "web_bot",
   "language": "python",
   "name": "python3"
  },
  "language_info": {
   "codemirror_mode": {
    "name": "ipython",
    "version": 3
   },
   "file_extension": ".py",
   "mimetype": "text/x-python",
   "name": "python",
   "nbconvert_exporter": "python",
   "pygments_lexer": "ipython3",
   "version": "3.10.14"
  }
 },
 "nbformat": 4,
 "nbformat_minor": 2
}
