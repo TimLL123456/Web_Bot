{
 "cells": [
  {
   "cell_type": "code",
   "execution_count": 1,
   "metadata": {},
   "outputs": [],
   "source": [
    "import yaml"
   ]
  },
  {
   "cell_type": "code",
   "execution_count": 6,
   "metadata": {},
   "outputs": [
    {
     "data": {
      "text/plain": [
       "('mr_testing',\n",
       " 'abcdefghijklmnopqrstuvwxyz',\n",
       " '11',\n",
       " '5',\n",
       " '上午7時',\n",
       " '竹園體育館',\n",
       " 'Minnie Gerlach',\n",
       " '5419281455243022',\n",
       " '07',\n",
       " '23',\n",
       " '000')"
      ]
     },
     "execution_count": 6,
     "metadata": {},
     "output_type": "execute_result"
    }
   ],
   "source": [
    "def extract_config(path):\n",
    "\n",
    "    with open(path, \"r\") as file:\n",
    "        config = yaml.safe_load(file)\n",
    "\n",
    "    return config\n",
    "\n",
    "config = extract_config(\"config.yml\")\n",
    "\n",
    "username = config[\"username\"]\n",
    "password = config[\"password\"]\n",
    "booking_month = config[\"booking_month\"]\n",
    "booking_day = config[\"booking_day\"]\n",
    "timeslot = config[\"timeslot\"]\n",
    "venue = config[\"venue\"]\n",
    "cardholder = config[\"cardholder\"]\n",
    "card_num = config[\"card_num\"]\n",
    "expiry_month = config[\"expiry_month\"]\n",
    "expiry_year = config[\"expiry_year\"]\n",
    "security_code = config[\"security_code\"]\n",
    "\n",
    "username, password, booking_month, booking_day, timeslot, venue, cardholder, card_num, expiry_month, expiry_year, security_code"
   ]
  },
  {
   "cell_type": "code",
   "execution_count": null,
   "metadata": {},
   "outputs": [],
   "source": []
  }
 ],
 "metadata": {
  "kernelspec": {
   "display_name": "web_bot",
   "language": "python",
   "name": "python3"
  },
  "language_info": {
   "codemirror_mode": {
    "name": "ipython",
    "version": 3
   },
   "file_extension": ".py",
   "mimetype": "text/x-python",
   "name": "python",
   "nbconvert_exporter": "python",
   "pygments_lexer": "ipython3",
   "version": "3.10.14"
  }
 },
 "nbformat": 4,
 "nbformat_minor": 2
}
