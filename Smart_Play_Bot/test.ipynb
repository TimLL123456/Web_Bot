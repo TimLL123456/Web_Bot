{
 "cells": [
  {
   "cell_type": "code",
   "execution_count": null,
   "metadata": {},
   "outputs": [],
   "source": [
    "web_1 = \"https://apigw.iamsmart.gov.hk/api/v1/auth/getQR?clientID=ba24333d41bd440790e020acdc795c10&responseType=code&source=PC_Browser&redirectURI=https%3A%2F%2Fwww.smartplay.lcsd.gov.hk%2Fiamsmart%2Flogincallback&scope=eidapi_auth+eidapi_formFilling&lang=zh-HK&brokerPage=false&state=91096e60b4304bc1a1a82276e4d3c350\"\n",
    "web_2 = \"https://apigw.iamsmart.gov.hk/api/v1/auth/getQR?clientID=ba24333d41bd440790e020acdc795c10&responseType=code&source=PC_Browser&redirectURI=https%3A%2F%2Fwww.smartplay.lcsd.gov.hk%2Fiamsmart%2Flogincallback&scope=eidapi_auth+eidapi_formFilling&lang=zh-HK&brokerPage=false&state=94366f3f2df44e759b17f1f9da5f2f9c\""
   ]
  }
 ],
 "metadata": {
  "language_info": {
   "name": "python"
  }
 },
 "nbformat": 4,
 "nbformat_minor": 2
}
